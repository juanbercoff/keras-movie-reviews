{
 "cells": [
  {
   "cell_type": "markdown",
   "metadata": {},
   "source": [
    "# Binary classification of movie reviews"
   ]
  },
  {
   "cell_type": "code",
   "execution_count": 4,
   "metadata": {},
   "outputs": [],
   "source": [
    "from keras.datasets import imdb"
   ]
  },
  {
   "cell_type": "markdown",
   "metadata": {},
   "source": [
    "Keeping the top 10000 most frequently ocurring words"
   ]
  },
  {
   "cell_type": "code",
   "execution_count": 5,
   "metadata": {
    "scrolled": true
   },
   "outputs": [
    {
     "name": "stdout",
     "output_type": "stream",
     "text": [
      "Downloading data from https://s3.amazonaws.com/text-datasets/imdb.npz\n",
      "17465344/17464789 [==============================] - 52s 3us/step\n"
     ]
    }
   ],
   "source": [
    "(train_data, train_labels), (test_data, test_labels) = imdb.load_data(num_words=10000)"
   ]
  },
  {
   "cell_type": "markdown",
   "metadata": {},
   "source": [
    "The data is an encoded sequence of words"
   ]
  },
  {
   "cell_type": "code",
   "execution_count": 22,
   "metadata": {
    "collapsed": true
   },
   "outputs": [
    {
     "data": {
      "text/plain": [
       "[1,\n",
       " 249,\n",
       " 1323,\n",
       " 7,\n",
       " 61,\n",
       " 113,\n",
       " 10,\n",
       " 10,\n",
       " 13,\n",
       " 1637,\n",
       " 14,\n",
       " 20,\n",
       " 56,\n",
       " 33,\n",
       " 2401,\n",
       " 18,\n",
       " 457,\n",
       " 88,\n",
       " 13,\n",
       " 2626,\n",
       " 1400,\n",
       " 45,\n",
       " 3171,\n",
       " 13,\n",
       " 70,\n",
       " 79,\n",
       " 49,\n",
       " 706,\n",
       " 919,\n",
       " 13,\n",
       " 16,\n",
       " 355,\n",
       " 340,\n",
       " 355,\n",
       " 1696,\n",
       " 96,\n",
       " 143,\n",
       " 4,\n",
       " 22,\n",
       " 32,\n",
       " 289,\n",
       " 7,\n",
       " 61,\n",
       " 369,\n",
       " 71,\n",
       " 2359,\n",
       " 5,\n",
       " 13,\n",
       " 16,\n",
       " 131,\n",
       " 2073,\n",
       " 249,\n",
       " 114,\n",
       " 249,\n",
       " 229,\n",
       " 249,\n",
       " 20,\n",
       " 13,\n",
       " 28,\n",
       " 126,\n",
       " 110,\n",
       " 13,\n",
       " 473,\n",
       " 8,\n",
       " 569,\n",
       " 61,\n",
       " 419,\n",
       " 56,\n",
       " 429,\n",
       " 6,\n",
       " 1513,\n",
       " 18,\n",
       " 35,\n",
       " 534,\n",
       " 95,\n",
       " 474,\n",
       " 570,\n",
       " 5,\n",
       " 25,\n",
       " 124,\n",
       " 138,\n",
       " 88,\n",
       " 12,\n",
       " 421,\n",
       " 1543,\n",
       " 52,\n",
       " 725,\n",
       " 6397,\n",
       " 61,\n",
       " 419,\n",
       " 11,\n",
       " 13,\n",
       " 1571,\n",
       " 15,\n",
       " 1543,\n",
       " 20,\n",
       " 11,\n",
       " 4,\n",
       " 2,\n",
       " 5,\n",
       " 296,\n",
       " 12,\n",
       " 3524,\n",
       " 5,\n",
       " 15,\n",
       " 421,\n",
       " 128,\n",
       " 74,\n",
       " 233,\n",
       " 334,\n",
       " 207,\n",
       " 126,\n",
       " 224,\n",
       " 12,\n",
       " 562,\n",
       " 298,\n",
       " 2167,\n",
       " 1272,\n",
       " 7,\n",
       " 2601,\n",
       " 5,\n",
       " 516,\n",
       " 988,\n",
       " 43,\n",
       " 8,\n",
       " 79,\n",
       " 120,\n",
       " 15,\n",
       " 595,\n",
       " 13,\n",
       " 784,\n",
       " 25,\n",
       " 3171,\n",
       " 18,\n",
       " 165,\n",
       " 170,\n",
       " 143,\n",
       " 19,\n",
       " 14,\n",
       " 5,\n",
       " 7224,\n",
       " 6,\n",
       " 226,\n",
       " 251,\n",
       " 7,\n",
       " 61,\n",
       " 113]"
      ]
     },
     "execution_count": 22,
     "metadata": {},
     "output_type": "execute_result"
    }
   ],
   "source": [
    "train_data[4]"
   ]
  },
  {
   "cell_type": "markdown",
   "metadata": {},
   "source": [
    "Decoding the sequence"
   ]
  },
  {
   "cell_type": "code",
   "execution_count": 16,
   "metadata": {},
   "outputs": [
    {
     "name": "stdout",
     "output_type": "stream",
     "text": [
      "Downloading data from https://s3.amazonaws.com/text-datasets/imdb_word_index.json\n",
      "1646592/1641221 [==============================] - 4s 2us/step\n"
     ]
    }
   ],
   "source": [
    "word_index = imdb.get_word_index()"
   ]
  },
  {
   "cell_type": "code",
   "execution_count": 17,
   "metadata": {},
   "outputs": [],
   "source": [
    "reverse_word_index = dict([(value, key) for (key, value) in word_index.items()])"
   ]
  },
  {
   "cell_type": "code",
   "execution_count": 27,
   "metadata": {},
   "outputs": [],
   "source": [
    "decoded_review = ' '.join([reverse_word_index.get(i - 3, '?') for i in train_data[4]])"
   ]
  },
  {
   "cell_type": "code",
   "execution_count": 28,
   "metadata": {},
   "outputs": [
    {
     "data": {
      "text/plain": [
       "\"? worst mistake of my life br br i picked this movie up at target for 5 because i figured hey it's sandler i can get some cheap laughs i was wrong completely wrong mid way through the film all three of my friends were asleep and i was still suffering worst plot worst script worst movie i have ever seen i wanted to hit my head up against a wall for an hour then i'd stop and you know why because it felt damn good upon bashing my head in i stuck that damn movie in the ? and watched it burn and that felt better than anything else i've ever done it took american psycho army of darkness and kill bill just to get over that crap i hate you sandler for actually going through with this and ruining a whole day of my life\""
      ]
     },
     "execution_count": 28,
     "metadata": {},
     "output_type": "execute_result"
    }
   ],
   "source": [
    "decoded_review"
   ]
  },
  {
   "cell_type": "markdown",
   "metadata": {},
   "source": [
    "Encoding the integer sequences into a binary matrix"
   ]
  },
  {
   "cell_type": "code",
   "execution_count": 29,
   "metadata": {},
   "outputs": [],
   "source": [
    "import numpy as np"
   ]
  },
  {
   "cell_type": "code",
   "execution_count": 46,
   "metadata": {},
   "outputs": [],
   "source": [
    "def vectorize_sequences(sequences, dimension=10000):\n",
    "    results = np.zeros((len(sequences), dimension))\n",
    "    \n",
    "    for i, sequence in enumerate(sequences):\n",
    "        results[i, sequence] = 1\n",
    "    \n",
    "    return results"
   ]
  },
  {
   "cell_type": "code",
   "execution_count": 106,
   "metadata": {},
   "outputs": [],
   "source": [
    "x_train = vectorize_sequences(train_data)\n",
    "x_test = vectorize_sequences(test_data)"
   ]
  },
  {
   "cell_type": "code",
   "execution_count": 114,
   "metadata": {},
   "outputs": [],
   "source": [
    "y_train = np.asarray(train_labels).astype('float32')\n",
    "y_test = np.asarray(test_labels).astype('float32')"
   ]
  },
  {
   "cell_type": "markdown",
   "metadata": {},
   "source": [
    "Model definition"
   ]
  },
  {
   "cell_type": "code",
   "execution_count": 109,
   "metadata": {},
   "outputs": [],
   "source": [
    "from keras import models, layers"
   ]
  },
  {
   "cell_type": "code",
   "execution_count": 130,
   "metadata": {},
   "outputs": [],
   "source": [
    "model = models.Sequential()\n",
    "model.add(layers.Dense(16, activation='relu', input_shape=(10000,)))\n",
    "model.add(layers.Dense(16, activation='relu'))\n",
    "model.add(layers.Dense(1, activation='sigmoid'))"
   ]
  },
  {
   "cell_type": "markdown",
   "metadata": {},
   "source": [
    "Compiling the model"
   ]
  },
  {
   "cell_type": "code",
   "execution_count": 131,
   "metadata": {},
   "outputs": [],
   "source": [
    "model.compile(optimizer='rmsprop',\n",
    "              loss='binary_crossentropy',\n",
    "              metrics=['acc'])"
   ]
  },
  {
   "cell_type": "markdown",
   "metadata": {},
   "source": [
    "Setting aside the validation set"
   ]
  },
  {
   "cell_type": "code",
   "execution_count": 115,
   "metadata": {},
   "outputs": [],
   "source": [
    "x_val = x_train[:10000]\n",
    "partial_x_train = x_train[10000:]\n",
    "\n",
    "y_val = y_train[:10000]\n",
    "partial_y_train = y_train[10000:]"
   ]
  },
  {
   "cell_type": "markdown",
   "metadata": {},
   "source": [
    "Training the model"
   ]
  },
  {
   "cell_type": "code",
   "execution_count": 132,
   "metadata": {},
   "outputs": [
    {
     "name": "stdout",
     "output_type": "stream",
     "text": [
      "Train on 15000 samples, validate on 10000 samples\n",
      "Epoch 1/20\n",
      "15000/15000 [==============================] - 4s 248us/step - loss: 0.4830 - acc: 0.7993 - val_loss: 0.3623 - val_acc: 0.8728\n",
      "Epoch 2/20\n",
      "15000/15000 [==============================] - 3s 216us/step - loss: 0.2849 - acc: 0.9067 - val_loss: 0.2943 - val_acc: 0.8880\n",
      "Epoch 3/20\n",
      "15000/15000 [==============================] - 4s 243us/step - loss: 0.2091 - acc: 0.9321 - val_loss: 0.2946 - val_acc: 0.8829\n",
      "Epoch 4/20\n",
      "15000/15000 [==============================] - 3s 215us/step - loss: 0.1673 - acc: 0.9450 - val_loss: 0.3015 - val_acc: 0.8799\n",
      "Epoch 5/20\n",
      "15000/15000 [==============================] - 3s 213us/step - loss: 0.1370 - acc: 0.9563 - val_loss: 0.2830 - val_acc: 0.8864\n",
      "Epoch 6/20\n",
      "15000/15000 [==============================] - 3s 211us/step - loss: 0.1136 - acc: 0.9644 - val_loss: 0.2963 - val_acc: 0.8847\n",
      "Epoch 7/20\n",
      "15000/15000 [==============================] - 3s 211us/step - loss: 0.0949 - acc: 0.9713 - val_loss: 0.3155 - val_acc: 0.8823\n",
      "Epoch 8/20\n",
      "15000/15000 [==============================] - 3s 211us/step - loss: 0.0769 - acc: 0.9789 - val_loss: 0.3400 - val_acc: 0.8784\n",
      "Epoch 9/20\n",
      "15000/15000 [==============================] - 3s 211us/step - loss: 0.0645 - acc: 0.9830 - val_loss: 0.3624 - val_acc: 0.8767\n",
      "Epoch 10/20\n",
      "15000/15000 [==============================] - 3s 209us/step - loss: 0.0527 - acc: 0.9862 - val_loss: 0.3896 - val_acc: 0.8750\n",
      "Epoch 11/20\n",
      "15000/15000 [==============================] - 3s 211us/step - loss: 0.0457 - acc: 0.9887 - val_loss: 0.4178 - val_acc: 0.8759\n",
      "Epoch 12/20\n",
      "15000/15000 [==============================] - 3s 209us/step - loss: 0.0340 - acc: 0.9932 - val_loss: 0.4433 - val_acc: 0.8727\n",
      "Epoch 13/20\n",
      "15000/15000 [==============================] - 3s 211us/step - loss: 0.0286 - acc: 0.9944 - val_loss: 0.4735 - val_acc: 0.8732\n",
      "Epoch 14/20\n",
      "15000/15000 [==============================] - 3s 209us/step - loss: 0.0216 - acc: 0.9969 - val_loss: 0.5313 - val_acc: 0.8642\n",
      "Epoch 15/20\n",
      "15000/15000 [==============================] - 3s 209us/step - loss: 0.0213 - acc: 0.9955 - val_loss: 0.5393 - val_acc: 0.8702\n",
      "Epoch 16/20\n",
      "15000/15000 [==============================] - 3s 210us/step - loss: 0.0163 - acc: 0.9971 - val_loss: 0.5635 - val_acc: 0.8694\n",
      "Epoch 17/20\n",
      "15000/15000 [==============================] - 3s 210us/step - loss: 0.0089 - acc: 0.9995 - val_loss: 0.6261 - val_acc: 0.8669\n",
      "Epoch 18/20\n",
      "15000/15000 [==============================] - 3s 210us/step - loss: 0.0116 - acc: 0.9981 - val_loss: 0.6252 - val_acc: 0.8678\n",
      "Epoch 19/20\n",
      "15000/15000 [==============================] - 3s 211us/step - loss: 0.0080 - acc: 0.9985 - val_loss: 0.6556 - val_acc: 0.8661\n",
      "Epoch 20/20\n",
      "15000/15000 [==============================] - 3s 209us/step - loss: 0.0039 - acc: 0.9998 - val_loss: 0.6846 - val_acc: 0.8634\n"
     ]
    }
   ],
   "source": [
    "history = model.fit(partial_x_train,\n",
    "                    partial_y_train,\n",
    "                    epochs=20,\n",
    "                    batch_size=512,\n",
    "                    validation_data=(x_val, y_val))"
   ]
  },
  {
   "cell_type": "code",
   "execution_count": 133,
   "metadata": {},
   "outputs": [],
   "source": [
    "history_dict = history.history"
   ]
  },
  {
   "cell_type": "markdown",
   "metadata": {},
   "source": [
    "Plotting the training and validation loss"
   ]
  },
  {
   "cell_type": "code",
   "execution_count": 134,
   "metadata": {},
   "outputs": [],
   "source": [
    "import matplotlib.pyplot as plt\n",
    "%matplotlib inline\n",
    "\n",
    "loss_values = history_dict['loss']\n",
    "val_loss_values = history_dict['val_loss']\n",
    "\n",
    "epochs = range(1, len(history_dict['acc']) + 1)"
   ]
  },
  {
   "cell_type": "code",
   "execution_count": 137,
   "metadata": {},
   "outputs": [
    {
     "data": {
      "text/plain": [
       "<matplotlib.legend.Legend at 0x1bebdd4e048>"
      ]
     },
     "execution_count": 137,
     "metadata": {},
     "output_type": "execute_result"
    },
    {
     "data": {
      "image/png": "[encoded data removed]",
      "text/plain": [
       "<Figure size 432x288 with 1 Axes>"
      ]
     },
     "metadata": {},
     "output_type": "display_data"
    }
   ],
   "source": [
    "plt.plot(epochs, loss_values, 'bo', label='Training loss')\n",
    "plt.plot(epochs, val_loss_values, 'b', label='Validation Loss')\n",
    "plt.title('Training and validation loss')\n",
    "plt.xlabel('Epochs')\n",
    "plt.ylabel('Loss')\n",
    "plt.legend()"
   ]
  },
  {
   "cell_type": "code",
   "execution_count": 139,
   "metadata": {},
   "outputs": [
    {
     "data": {
      "text/plain": [
       "<matplotlib.legend.Legend at 0x1bebdddf630>"
      ]
     },
     "execution_count": 139,
     "metadata": {},
     "output_type": "execute_result"
    },
    {
     "data": {
      "image/png": "[encoded data removed]",
      "text/plain": [
       "<Figure size 432x288 with 1 Axes>"
      ]
     },
     "metadata": {},
     "output_type": "display_data"
    }
   ],
   "source": [
    "acc_values = history_dict['acc']\n",
    "val_acc_values = history_dict['val_acc']\n",
    "\n",
    "plt.plot(epochs, acc_values, 'bo', label='Training acc')\n",
    "plt.plot(epochs, val_acc_values, 'b', label='Validation acc')\n",
    "plt.title('Training and validation accuracy')\n",
    "plt.xlabel('Epochs')\n",
    "plt.ylabel('Accuracy')\n",
    "plt.legend()"
   ]
  },
  {
   "cell_type": "markdown",
   "metadata": {},
   "source": [
    "Around the 5th epoch the loss is minimized and the accuracy is at its highest in the validation set. This is a good candidate for early stopping."
   ]
  },
  {
   "cell_type": "markdown",
   "metadata": {},
   "source": [
    "Retraining the model"
   ]
  },
  {
   "cell_type": "code",
   "execution_count": 141,
   "metadata": {},
   "outputs": [
    {
     "name": "stdout",
     "output_type": "stream",
     "text": [
      "Epoch 1/5\n",
      "25000/25000 [==============================] - 4s 174us/step - loss: 0.4490 - acc: 0.8135\n",
      "Epoch 2/5\n",
      "25000/25000 [==============================] - 4s 144us/step - loss: 0.2535 - acc: 0.9118\n",
      "Epoch 3/5\n",
      "25000/25000 [==============================] - 4s 142us/step - loss: 0.1998 - acc: 0.9286\n",
      "Epoch 4/5\n",
      "25000/25000 [==============================] - 4s 145us/step - loss: 0.1630 - acc: 0.9431\n",
      "Epoch 5/5\n",
      "25000/25000 [==============================] - 4s 143us/step - loss: 0.1394 - acc: 0.9510\n",
      "25000/25000 [==============================] - 7s 297us/step\n"
     ]
    }
   ],
   "source": [
    "model = models.Sequential()\n",
    "model.add(layers.Dense(16, activation='relu', input_shape=(10000,)))\n",
    "model.add(layers.Dense(16, activation='relu'))\n",
    "model.add(layers.Dense(1, activation='sigmoid'))\n",
    "\n",
    "model.compile(optimizer='rmsprop',\n",
    "              loss='binary_crossentropy',\n",
    "              metrics=['accuracy'])\n",
    "\n",
    "model.fit(x_train, y_train, epochs=5, batch_size=512)\n",
    "results = model.evaluate(x_test, y_test)"
   ]
  },
  {
   "cell_type": "code",
   "execution_count": 142,
   "metadata": {},
   "outputs": [
    {
     "data": {
      "text/plain": [
       "[0.3213737705850601, 0.8778]"
      ]
     },
     "execution_count": 142,
     "metadata": {},
     "output_type": "execute_result"
    }
   ],
   "source": [
    "results"
   ]
  },
  {
   "cell_type": "markdown",
   "metadata": {},
   "source": [
    "This approach archived an accuracy of about 88%, fairly accurate for a simple model."
   ]
  },
  {
   "cell_type": "code",
   "execution_count": null,
   "metadata": {},
   "outputs": [],
   "source": []
  }
 ],
 "metadata": {
  "kernelspec": {
   "display_name": "Python 3",
   "language": "python",
   "name": "python3"
  },
  "language_info": {
   "codemirror_mode": {
    "name": "ipython",
    "version": 3
   },
   "file_extension": ".py",
   "mimetype": "text/x-python",
   "name": "python",
   "nbconvert_exporter": "python",
   "pygments_lexer": "ipython3",
   "version": "3.6.4"
  }
 },
 "nbformat": 4,
 "nbformat_minor": 2
}
